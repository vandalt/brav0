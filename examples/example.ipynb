{
 "cells": [
  {
   "cell_type": "markdown",
   "source": [
    "# Example Zero-point fit\n",
    "While _brav0_ can be run from the command line with a config file, it can be useful to access the API directly to experiment or run a specific model. This example notebook shows a GP model with this workflow."
   ],
   "metadata": {}
  },
  {
   "cell_type": "code",
   "execution_count": null,
   "source": [
    "from datetime import datetime\n",
    "from importlib import reload  # Always useful to reload modified modules\n",
    "from pathlib import Path\n",
    "\n",
    "import yaml\n",
    "import numpy as np\n",
    "import xarray as xr\n",
    "import arviz as az\n",
    "import brav0.preprocess as pp\n",
    "import brav0.utils as ut\n",
    "import matplotlib.pyplot as plt\n",
    "from brav0 import model, plot, rmplanets\n",
    "from brav0.io import save_df, source_tables"
   ],
   "outputs": [],
   "metadata": {}
  },
  {
   "cell_type": "markdown",
   "source": [
    "## Configuration\n",
    "We can specify some configuration parameters here before running the model."
   ],
   "metadata": {}
  },
  {
   "cell_type": "code",
   "execution_count": null,
   "source": [
    "time_col = \"rjd\"\n",
    "vrad_col = \"vrad\"\n",
    "svrad_col = \"svrad\"\n",
    "file_col = \"RVFILE\"  # Label of the file column in df after sourcing files\n",
    "row_col = \"ROW\"  # Label of index column that gives row number\n",
    "used_cols = [time_col, vrad_col, svrad_col]\n",
    "snr_col = \"SNRCOL\"\n",
    "snrgoal_col = \"SNRGOAL\"\n",
    "obj_col = \"OBJECT\"\n",
    "id_filter_col = \"FILENAME\"\n",
    "\n",
    "pp_list = [\"nan\", \"sort\", \"sigma\", \"ID\", \"SNR\", \"error\"]\n",
    "\n",
    "# Glob pattern for input data files (we expect multiple stars)\n",
    "in_pattern = \"/path/to/data/*.rdb\"\n",
    "out_dir = Path(\"/path/to/outdir\")\n",
    "\n",
    "# Pre-processing options\n",
    "# Bad odometer sheet for SPIRou\n",
    "bad_id_url = \"https://docs.google.com/spreadsheets/d/1WMuvP2DZmCCjAggPzeXYea6wk_I5SAxvdM9kah8CFko/gviz/tq?tqx=out:csv&sheet=0\"\n",
    "# Sigma clipping\n",
    "nsig_clip = 3.0\n",
    "snr_frac = 0.7\n",
    "err_quant_cut = 0.95\n",
    "bin_data = True\n",
    "extra_wmean_pairs = dict()\n",
    "extra_wmean_pairs[\"fwhm\"] = \"sig_fwhm\"\n",
    "az_kwargs = dict(\n",
    "    var_names=[\n",
    "        \"~pred\",\n",
    "        \"~pred_std\",\n",
    "        \"~bkg\",\n",
    "        \"~rv_model\",\n",
    "        \"~dvdt\",\n",
    "        \"~curv\",\n",
    "        \"~_wn\",\n",
    "        \"~logsigma\",\n",
    "        \"~logrho\",\n",
    "    ],\n",
    "    filter_vars=\"like\",\n",
    ")\n",
    "\n",
    "# Targets to use in calibration\n",
    "target_list = [\n",
    "    \"Star1\",\n",
    "    \"Star2\",\n",
    "    \"Star3\",\n",
    "]\n",
    "# Map Dataset object name to exoplanet archive names if required\n",
    "# NOTE: GL -> GJ is done automatically, can override here if necessary\n",
    "archive_dict = {\n",
    "    \"Star1A\": \"Star1 A\",\n",
    "}\n",
    "\n",
    "obj_extra_info = {\n",
    "    \"Star1\": {\n",
    "        # This overrides the default reference for this system\n",
    "        \"reference\": \"Alternative 2020\",\n",
    "    },\n",
    "    \"Star2\": {\n",
    "        \"known_pl\": {\n",
    "            \"c\": {\n",
    "                \"pl_tranmid\": 2400000.00,\n",
    "                \"pl_tranmiderr1\": 0.1,\n",
    "                \"pl_tranmiderr2\": -0.15,\n",
    "            }\n",
    "        }\n",
    "    },\n",
    "}\n",
    "\n",
    "kernel = \"Matern32Term\"\n",
    "with open(\"parameters.yml\", \"r\") as ymlfile:\n",
    "    config = yaml.safe_load(ymlfile)\n",
    "model_parameters = config[\"model_parameters\"]\n",
    "\n",
    "# Monte-Carlo settings for known planets removal\n",
    "mc_prop = True\n",
    "mc_ndraws = 5000"
   ],
   "outputs": [],
   "metadata": {
    "lines_to_next_cell": 2
   }
  },
  {
   "cell_type": "code",
   "execution_count": null,
   "source": [
    "data = source_tables(in_pattern, file_col=file_col, row_col=row_col)\n",
    "print(\"Data loaded\")\n",
    "save_df(data, out_dir / \"raw.csv\")"
   ],
   "outputs": [],
   "metadata": {}
  },
  {
   "cell_type": "code",
   "execution_count": null,
   "source": [
    "data_raw = data.copy()\n",
    "data_clean = pp.cleanup(\n",
    "    data_raw,\n",
    "    plist=pp_list,\n",
    "    bad_id_url=bad_id_url,\n",
    "    id_filter_col=id_filter_col,\n",
    "    clip_col=vrad_col,\n",
    "    nsig_clip=nsig_clip,\n",
    "    time_col=time_col,\n",
    "    group_col=file_col,\n",
    "    equant_col=svrad_col,\n",
    "    equant_cut=err_quant_cut,\n",
    "    snr_col=snr_col,\n",
    "    snr_goal_col=snrgoal_col,\n",
    "    snr_frac=snr_frac,\n",
    "    used_cols=used_cols,\n",
    ")\n",
    "data_obj_ind = pp.index_with_obj(data_clean, 1, force_self_mask=True)\n",
    "data_no_bin = pp.keep_obj_list(data_obj_ind, target_list, obj_col=obj_col)\n",
    "data_bin = pp.bin_dataset(\n",
    "    data_no_bin, vrad_col, svrad_col, extra_pairs=extra_wmean_pairs\n",
    ")\n",
    "data = pp.add_archive_name(data_bin, obj_col, extra_maps=archive_dict)"
   ],
   "outputs": [],
   "metadata": {
    "lines_to_next_cell": 2
   }
  },
  {
   "cell_type": "code",
   "execution_count": null,
   "source": [
    "obj_list = ut.get_obj_vals(data, unique=True)"
   ],
   "outputs": [],
   "metadata": {}
  },
  {
   "cell_type": "code",
   "execution_count": null,
   "source": [
    "print(\"Pre-processing done.\")\n",
    "save_df(data, out_dir / \"preprocessed.csv\", force=True)"
   ],
   "outputs": [],
   "metadata": {}
  },
  {
   "cell_type": "code",
   "execution_count": null,
   "source": [
    "archive_list = rmplanets.get_archive_list(data)\n",
    "known_pl = rmplanets.get_known_planets(archive_list)\n",
    "archive_names = rmplanets.get_archive_map(data, row_col=row_col)\n",
    "data_with_pl = data.copy()"
   ],
   "outputs": [],
   "metadata": {
    "lines_to_next_cell": 2
   }
  },
  {
   "cell_type": "code",
   "execution_count": null,
   "source": [
    "# Here we take config references if specified\n",
    "ref_cfg = rmplanets.get_archive_ref_cfg(obj_extra_info, archive_names)\n",
    "# If no reference was specified, this will get the default one\n",
    "known_pl = rmplanets.select_refs(known_pl, ref_cfg)"
   ],
   "outputs": [],
   "metadata": {}
  },
  {
   "cell_type": "code",
   "execution_count": null,
   "source": [
    "# With this function, we could override archive parameter values\n",
    "archive_info = rmplanets.get_custom_archive(obj_extra_info, archive_names)\n",
    "known_pl = rmplanets.add_custom_archive(known_pl, archive_info)"
   ],
   "outputs": [],
   "metadata": {}
  },
  {
   "cell_type": "code",
   "execution_count": null,
   "source": [
    "# Once the \"known\" parameter values are set, we can remove planets with\n",
    "# monte-carlo error propagation (or without)\n",
    "data = rmplanets.remove_all_planets(\n",
    "    data_with_pl,\n",
    "    known_pl,\n",
    "    obj_col,\n",
    "    time_col,\n",
    "    mc_propagate=mc_prop,\n",
    "    ndraws=mc_ndraws,\n",
    ")\n",
    "data_no_pl = data.copy()\n",
    "save_df(data_no_pl, out_dir / \"no_planets.csv\", force=True)\n",
    "print(\"Planet removal done\")"
   ],
   "outputs": [],
   "metadata": {}
  },
  {
   "cell_type": "code",
   "execution_count": null,
   "source": [
    "gpzp_model = model.GPModel(data, kernel, model_parameters)"
   ],
   "outputs": [],
   "metadata": {}
  },
  {
   "cell_type": "code",
   "execution_count": null,
   "source": [
    "map_soln = gpzp_model.optimize()\n",
    "map_soln_dict = map_soln\n",
    "map_soln = xr.Dataset(map_soln)\n",
    "map_soln.to_netcdf(out_dir / \"map.nc\")"
   ],
   "outputs": [],
   "metadata": {}
  },
  {
   "cell_type": "code",
   "execution_count": null,
   "source": [
    "trace = gpzp_model.sample(start=map_soln_dict, tune=500, draws=500)\n",
    "post = trace.posterior"
   ],
   "outputs": [],
   "metadata": {}
  },
  {
   "cell_type": "code",
   "execution_count": null,
   "source": [
    "post.to_netcdf(out_dir / \"posterior.nc\")"
   ],
   "outputs": [],
   "metadata": {}
  },
  {
   "cell_type": "code",
   "execution_count": null,
   "source": [
    "summary = az.summary(trace, **az_kwargs)\n",
    "print(summary)"
   ],
   "outputs": [],
   "metadata": {}
  },
  {
   "cell_type": "code",
   "execution_count": null,
   "source": [
    "post = trace.posterior\n",
    "plot.plot_trace(post, **az_kwargs, savepath=out_dir / \"trace.pdf\")\n",
    "plt.show()"
   ],
   "outputs": [],
   "metadata": {}
  },
  {
   "cell_type": "code",
   "execution_count": null,
   "source": [
    "plot.plot_corner(post, savepath=out_dir / \"corner.pdf\", **az_kwargs)\n",
    "plt.clf()\n",
    "# plt.show()"
   ],
   "outputs": [],
   "metadata": {}
  },
  {
   "cell_type": "code",
   "execution_count": null,
   "source": [
    "# TODO: move below to pre-defined functions\n",
    "keys = [k for k in map_soln.keys() if \"gamma\" in k]\n",
    "map_offs = map_soln[keys].to_pandas()\n",
    "map_offs.index = map_offs.index.str.split(\"_\").str[0]\n",
    "map_offs.index.name = obj_col\n",
    "data_no_offsets_fit = data.copy()\n",
    "data_no_offsets_fit.vrad = (data_no_offsets_fit.vrad - map_offs).astype(float)\n",
    "flatpost = post.stack(draws=(\"chain\", \"draw\"))\n",
    "pred_values = flatpost.pred.values\n",
    "pred_std_values = flatpost.pred_std.values"
   ],
   "outputs": [],
   "metadata": {
    "lines_to_next_cell": 2
   }
  },
  {
   "cell_type": "code",
   "execution_count": null,
   "source": [
    "plt.figure(figsize=(10, 6))\n",
    "plot.plot_all(data_no_offsets_fit, alpha=0.5)\n",
    "for i in np.random.randint(pred_values.shape[1], size=200):\n",
    "    plt.plot(gpzp_model.tpred, pred_values[:, i], color=\"C0\", alpha=0.3)\n",
    "plot.plot_pred(\n",
    "    gpzp_model, map_soln[\"pred\"].values, map_soln[\"pred_std\"].values\n",
    ")\n",
    "plt.show()"
   ],
   "outputs": [],
   "metadata": {}
  },
  {
   "cell_type": "code",
   "execution_count": null,
   "source": [
    "mask = np.isin(gpzp_model.tpred, data_no_offsets_fit.rjd)\n",
    "resids_rv = data_no_offsets_fit.vrad.values - map_soln[\"pred\"].values[mask]"
   ],
   "outputs": [],
   "metadata": {}
  },
  {
   "cell_type": "code",
   "execution_count": null,
   "source": [
    "plt.errorbar(\n",
    "    data_no_offsets_fit.rjd,\n",
    "    data_no_offsets_fit.vrad,\n",
    "    data_no_offsets_fit.svrad,\n",
    "    fmt=\"o\",\n",
    "    capsize=2,\n",
    ")\n",
    "plt.errorbar(\n",
    "    data_no_offsets_fit.rjd,\n",
    "    resids_rv,\n",
    "    data_no_offsets_fit.svrad,\n",
    "    fmt=\"o\",\n",
    "    capsize=2,\n",
    ")\n",
    "plt.show()"
   ],
   "outputs": [],
   "metadata": {}
  },
  {
   "cell_type": "code",
   "execution_count": null,
   "source": [
    "plot.plot_pred(\n",
    "    gpzp_model, map_soln[\"pred\"].values, map_soln[\"pred_std\"].values\n",
    ")"
   ],
   "outputs": [],
   "metadata": {}
  }
 ],
 "metadata": {
  "jupytext": {
   "cell_metadata_filter": "-all",
   "main_language": "python",
   "notebook_metadata_filter": "-all"
  },
  "kernelspec": {
   "name": "python3",
   "display_name": "Python 3.9.7 64-bit ('brav0': pyenv)"
  },
  "language_info": {
   "codemirror_mode": {
    "name": "ipython",
    "version": 3
   },
   "file_extension": ".py",
   "mimetype": "text/x-python",
   "name": "python",
   "nbconvert_exporter": "python",
   "pygments_lexer": "ipython3",
   "version": "3.9.7"
  },
  "interpreter": {
   "hash": "d0d2007a2449a1af02668d91017583a695258d91a56990f8aa5b1a9973e55b7c"
  }
 },
 "nbformat": 4,
 "nbformat_minor": 5
}